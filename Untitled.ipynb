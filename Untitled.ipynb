{
 "cells": [
  {
   "cell_type": "code",
   "execution_count": 9,
   "id": "advance-commodity",
   "metadata": {},
   "outputs": [],
   "source": [
    "import pandas_datareader as pdr"
   ]
  },
  {
   "cell_type": "code",
   "execution_count": 29,
   "id": "scientific-notification",
   "metadata": {},
   "outputs": [],
   "source": [
    "API_KEY=''\n",
    "df=pdr.get_data_tiingo('AAPL',api_key=API_KEY)"
   ]
  },
  {
   "cell_type": "code",
   "execution_count": 30,
   "id": "ambient-fireplace",
   "metadata": {},
   "outputs": [
    {
     "data": {
      "text/html": [
       "<div>\n",
       "<style scoped>\n",
       "    .dataframe tbody tr th:only-of-type {\n",
       "        vertical-align: middle;\n",
       "    }\n",
       "\n",
       "    .dataframe tbody tr th {\n",
       "        vertical-align: top;\n",
       "    }\n",
       "\n",
       "    .dataframe thead th {\n",
       "        text-align: right;\n",
       "    }\n",
       "</style>\n",
       "<table border=\"1\" class=\"dataframe\">\n",
       "  <thead>\n",
       "    <tr style=\"text-align: right;\">\n",
       "      <th></th>\n",
       "      <th></th>\n",
       "      <th>close</th>\n",
       "      <th>high</th>\n",
       "      <th>low</th>\n",
       "      <th>open</th>\n",
       "      <th>volume</th>\n",
       "      <th>adjClose</th>\n",
       "      <th>adjHigh</th>\n",
       "      <th>adjLow</th>\n",
       "      <th>adjOpen</th>\n",
       "      <th>adjVolume</th>\n",
       "      <th>divCash</th>\n",
       "      <th>splitFactor</th>\n",
       "    </tr>\n",
       "    <tr>\n",
       "      <th>symbol</th>\n",
       "      <th>date</th>\n",
       "      <th></th>\n",
       "      <th></th>\n",
       "      <th></th>\n",
       "      <th></th>\n",
       "      <th></th>\n",
       "      <th></th>\n",
       "      <th></th>\n",
       "      <th></th>\n",
       "      <th></th>\n",
       "      <th></th>\n",
       "      <th></th>\n",
       "      <th></th>\n",
       "    </tr>\n",
       "  </thead>\n",
       "  <tbody>\n",
       "    <tr>\n",
       "      <th rowspan=\"5\" valign=\"top\">AAPL</th>\n",
       "      <th>2016-01-22 00:00:00+00:00</th>\n",
       "      <td>101.42</td>\n",
       "      <td>101.4600</td>\n",
       "      <td>98.37</td>\n",
       "      <td>98.63</td>\n",
       "      <td>65800467</td>\n",
       "      <td>23.487714</td>\n",
       "      <td>23.496977</td>\n",
       "      <td>22.781369</td>\n",
       "      <td>22.841582</td>\n",
       "      <td>263201868</td>\n",
       "      <td>0.0</td>\n",
       "      <td>1.0</td>\n",
       "    </tr>\n",
       "    <tr>\n",
       "      <th>2016-01-25 00:00:00+00:00</th>\n",
       "      <td>99.44</td>\n",
       "      <td>101.5300</td>\n",
       "      <td>99.21</td>\n",
       "      <td>101.52</td>\n",
       "      <td>51794525</td>\n",
       "      <td>23.029169</td>\n",
       "      <td>23.513189</td>\n",
       "      <td>22.975903</td>\n",
       "      <td>23.510873</td>\n",
       "      <td>207178100</td>\n",
       "      <td>0.0</td>\n",
       "      <td>1.0</td>\n",
       "    </tr>\n",
       "    <tr>\n",
       "      <th>2016-01-26 00:00:00+00:00</th>\n",
       "      <td>99.99</td>\n",
       "      <td>100.8800</td>\n",
       "      <td>98.07</td>\n",
       "      <td>99.93</td>\n",
       "      <td>75077002</td>\n",
       "      <td>23.156542</td>\n",
       "      <td>23.362656</td>\n",
       "      <td>22.711892</td>\n",
       "      <td>23.142647</td>\n",
       "      <td>300308008</td>\n",
       "      <td>0.0</td>\n",
       "      <td>1.0</td>\n",
       "    </tr>\n",
       "    <tr>\n",
       "      <th>2016-01-27 00:00:00+00:00</th>\n",
       "      <td>93.42</td>\n",
       "      <td>96.6289</td>\n",
       "      <td>93.34</td>\n",
       "      <td>96.04</td>\n",
       "      <td>133369674</td>\n",
       "      <td>21.635005</td>\n",
       "      <td>22.378150</td>\n",
       "      <td>21.616478</td>\n",
       "      <td>22.241767</td>\n",
       "      <td>533478696</td>\n",
       "      <td>0.0</td>\n",
       "      <td>1.0</td>\n",
       "    </tr>\n",
       "    <tr>\n",
       "      <th>2016-01-28 00:00:00+00:00</th>\n",
       "      <td>94.09</td>\n",
       "      <td>94.5200</td>\n",
       "      <td>92.39</td>\n",
       "      <td>93.79</td>\n",
       "      <td>55678825</td>\n",
       "      <td>21.790170</td>\n",
       "      <td>21.889753</td>\n",
       "      <td>21.396469</td>\n",
       "      <td>21.720693</td>\n",
       "      <td>222715300</td>\n",
       "      <td>0.0</td>\n",
       "      <td>1.0</td>\n",
       "    </tr>\n",
       "  </tbody>\n",
       "</table>\n",
       "</div>"
      ],
      "text/plain": [
       "                                   close      high    low    open     volume  \\\n",
       "symbol date                                                                    \n",
       "AAPL   2016-01-22 00:00:00+00:00  101.42  101.4600  98.37   98.63   65800467   \n",
       "       2016-01-25 00:00:00+00:00   99.44  101.5300  99.21  101.52   51794525   \n",
       "       2016-01-26 00:00:00+00:00   99.99  100.8800  98.07   99.93   75077002   \n",
       "       2016-01-27 00:00:00+00:00   93.42   96.6289  93.34   96.04  133369674   \n",
       "       2016-01-28 00:00:00+00:00   94.09   94.5200  92.39   93.79   55678825   \n",
       "\n",
       "                                   adjClose    adjHigh     adjLow    adjOpen  \\\n",
       "symbol date                                                                    \n",
       "AAPL   2016-01-22 00:00:00+00:00  23.487714  23.496977  22.781369  22.841582   \n",
       "       2016-01-25 00:00:00+00:00  23.029169  23.513189  22.975903  23.510873   \n",
       "       2016-01-26 00:00:00+00:00  23.156542  23.362656  22.711892  23.142647   \n",
       "       2016-01-27 00:00:00+00:00  21.635005  22.378150  21.616478  22.241767   \n",
       "       2016-01-28 00:00:00+00:00  21.790170  21.889753  21.396469  21.720693   \n",
       "\n",
       "                                  adjVolume  divCash  splitFactor  \n",
       "symbol date                                                        \n",
       "AAPL   2016-01-22 00:00:00+00:00  263201868      0.0          1.0  \n",
       "       2016-01-25 00:00:00+00:00  207178100      0.0          1.0  \n",
       "       2016-01-26 00:00:00+00:00  300308008      0.0          1.0  \n",
       "       2016-01-27 00:00:00+00:00  533478696      0.0          1.0  \n",
       "       2016-01-28 00:00:00+00:00  222715300      0.0          1.0  "
      ]
     },
     "execution_count": 30,
     "metadata": {},
     "output_type": "execute_result"
    }
   ],
   "source": [
    "df.head()"
   ]
  },
  {
   "cell_type": "code",
   "execution_count": 242,
   "id": "critical-guatemala",
   "metadata": {},
   "outputs": [],
   "source": [
    "df2 = df.reset_index()['close']"
   ]
  },
  {
   "cell_type": "code",
   "execution_count": 243,
   "id": "nuclear-evanescence",
   "metadata": {},
   "outputs": [],
   "source": [
    "df1 = df.reset_index()\n",
    "df1 = df1['close']"
   ]
  },
  {
   "cell_type": "code",
   "execution_count": 244,
   "id": "flush-attack",
   "metadata": {},
   "outputs": [
    {
     "data": {
      "text/plain": [
       "[<matplotlib.lines.Line2D at 0x229a5356208>]"
      ]
     },
     "execution_count": 244,
     "metadata": {},
     "output_type": "execute_result"
    },
    {
     "data": {
      "image/png": "[encoded data removed]",
      "text/plain": [
       "<Figure size 432x288 with 1 Axes>"
      ]
     },
     "metadata": {
      "needs_background": "light"
     },
     "output_type": "display_data"
    }
   ],
   "source": [
    "import matplotlib.pyplot as plt\n",
    "plt.plot(df1)"
   ]
  },
  {
   "cell_type": "code",
   "execution_count": 245,
   "id": "structured-theater",
   "metadata": {},
   "outputs": [],
   "source": [
    "###Transforming the data using minmaxscaler for standardization\n",
    "from sklearn.preprocessing import MinMaxScaler\n",
    "scaler = MinMaxScaler(feature_range=(0,1))\n",
    "df1 = scaler.fit_transform(df1.values.reshape(-1,1))"
   ]
  },
  {
   "cell_type": "code",
   "execution_count": 246,
   "id": "worse-orlando",
   "metadata": {},
   "outputs": [],
   "source": [
    "from sklearn.preprocessing import StandardScaler"
   ]
  },
  {
   "cell_type": "code",
   "execution_count": 247,
   "id": "yellow-tournament",
   "metadata": {},
   "outputs": [],
   "source": [
    "ss = StandardScaler()\n",
    "df2 = ss.fit_transform(df2.values.reshape((-1,1)))"
   ]
  },
  {
   "cell_type": "code",
   "execution_count": 248,
   "id": "painful-tablet",
   "metadata": {},
   "outputs": [],
   "source": [
    "###Splitting dataset in time-based data sice the sequence of data is important so we just divide data sequentially rather than shuffling as the current data depends on past data\n",
    "training_size=int(len(df1)*0.65)\n",
    "train_data,test_data=df1[0:training_size,:],df1[training_size:len(df1),:1]\n",
    "\n",
    "\n",
    "training_size=int(len(df2)*0.65)\n",
    "train_data1,test_data1=df2[0:training_size,:],df2[training_size:len(df2),:1]"
   ]
  },
  {
   "cell_type": "code",
   "execution_count": 249,
   "id": "electric-camel",
   "metadata": {},
   "outputs": [],
   "source": [
    "import numpy as np\n",
    "###forming the x and y from the dataset x---> values of past p(p=100) days of stock price  y---> value of the current day price\n",
    "###p is a paramatrized so for best we have to see for different values of p\n",
    "def form_dataset(df,time_step):\n",
    "    data_x=[]\n",
    "    data_y=[] \n",
    "    for i in range(0,df.shape[0]-time_step-1):\n",
    "        data_x.append(np.asarray(df[i:i+time_step,0]))\n",
    "        data_y.append(np.asarray(df[i+time_step,0]))\n",
    "    return np.asarray(data_x),np.asarray(data_y)\n"
   ]
  },
  {
   "cell_type": "code",
   "execution_count": 250,
   "id": "polish-hunter",
   "metadata": {},
   "outputs": [],
   "source": [
    "XT,YT = form_dataset(train_data,100)\n",
    "Xt,Yt = form_dataset(test_data,100)"
   ]
  },
  {
   "cell_type": "code",
   "execution_count": 251,
   "id": "rolled-polyester",
   "metadata": {},
   "outputs": [],
   "source": [
    "XT1,YT1 = form_dataset(train_data,100)\n",
    "Xt1,Yt1 = form_dataset(test_data,100)"
   ]
  },
  {
   "cell_type": "code",
   "execution_count": 252,
   "id": "affiliated-lafayette",
   "metadata": {},
   "outputs": [
    {
     "data": {
      "text/plain": [
       "((716, 100), (716,))"
      ]
     },
     "execution_count": 252,
     "metadata": {},
     "output_type": "execute_result"
    }
   ],
   "source": [
    "XT.shape,YT.shape"
   ]
  },
  {
   "cell_type": "code",
   "execution_count": 253,
   "id": "fitted-joint",
   "metadata": {},
   "outputs": [],
   "source": [
    "###Reshaping the input to 3 dimensional so that it can be fed to LSTM network\n",
    "XT = XT.reshape((XT.shape[0],-1,1))\n",
    "XT1 = XT.reshape((XT1.shape[0],-1,1))\n",
    "\n",
    "Xt = Xt.reshape((Xt.shape[0],-1,1))\n",
    "Xt1 = Xt.reshape((Xt1.shape[0],-1,1))\n",
    "\n"
   ]
  },
  {
   "cell_type": "code",
   "execution_count": 254,
   "id": "unavailable-corrections",
   "metadata": {},
   "outputs": [],
   "source": [
    "from keras.models import Sequential\n",
    "from keras.layers import *"
   ]
  },
  {
   "cell_type": "code",
   "execution_count": 255,
   "id": "alternative-banner",
   "metadata": {},
   "outputs": [
    {
     "name": "stdout",
     "output_type": "stream",
     "text": [
      "Model: \"sequential_8\"\n",
      "_________________________________________________________________\n",
      "Layer (type)                 Output Shape              Param #   \n",
      "=================================================================\n",
      "lstm_24 (LSTM)               (None, 100, 50)           10400     \n",
      "_________________________________________________________________\n",
      "lstm_25 (LSTM)               (None, 100, 50)           20200     \n",
      "_________________________________________________________________\n",
      "lstm_26 (LSTM)               (None, 50)                20200     \n",
      "_________________________________________________________________\n",
      "dense_8 (Dense)              (None, 1)                 51        \n",
      "=================================================================\n",
      "Total params: 50,851\n",
      "Trainable params: 50,851\n",
      "Non-trainable params: 0\n",
      "_________________________________________________________________\n"
     ]
    }
   ],
   "source": [
    "###defining LSTM Model\n",
    "model = Sequential()\n",
    "model.add(LSTM(50,input_shape=(100,1),return_sequences=True))\n",
    "model.add(LSTM(50,return_sequences=True))\n",
    "model.add(LSTM(50))\n",
    "model.add(Dense(1))\n",
    "model.summary()\n",
    "model.compile(loss='mean_squared_error',optimizer='adam',metrics=['accuracy'])"
   ]
  },
  {
   "cell_type": "code",
   "execution_count": 256,
   "id": "anonymous-comparative",
   "metadata": {},
   "outputs": [
    {
     "name": "stdout",
     "output_type": "stream",
     "text": [
      "Epoch 1/100\n",
      "12/12 [==============================] - 13s 420ms/step - loss: 0.0133 - accuracy: 0.0000e+00 - val_loss: 0.0572 - val_accuracy: 0.0000e+00\n",
      "Epoch 2/100\n",
      "12/12 [==============================] - 3s 269ms/step - loss: 0.0024 - accuracy: 0.0000e+00 - val_loss: 0.0264 - val_accuracy: 0.0029\n",
      "Epoch 3/100\n",
      "12/12 [==============================] - 3s 269ms/step - loss: 7.2585e-04 - accuracy: 0.0000e+00 - val_loss: 0.0222 - val_accuracy: 0.0029\n",
      "Epoch 4/100\n",
      "12/12 [==============================] - 3s 269ms/step - loss: 5.0538e-04 - accuracy: 0.0000e+00 - val_loss: 0.0216 - val_accuracy: 0.0029\n",
      "Epoch 5/100\n",
      "12/12 [==============================] - 3s 288ms/step - loss: 3.8835e-04 - accuracy: 0.0000e+00 - val_loss: 0.0204 - val_accuracy: 0.0029\n",
      "Epoch 6/100\n",
      "12/12 [==============================] - 3s 274ms/step - loss: 3.5291e-04 - accuracy: 0.0000e+00 - val_loss: 0.0201 - val_accuracy: 0.0029\n",
      "Epoch 7/100\n",
      "12/12 [==============================] - 3s 272ms/step - loss: 3.1159e-04 - accuracy: 0.0000e+00 - val_loss: 0.0195 - val_accuracy: 0.0029\n",
      "Epoch 8/100\n",
      "12/12 [==============================] - 3s 272ms/step - loss: 3.2786e-04 - accuracy: 0.0000e+00 - val_loss: 0.0188 - val_accuracy: 0.0029\n",
      "Epoch 9/100\n",
      "12/12 [==============================] - 3s 294ms/step - loss: 3.2595e-04 - accuracy: 0.0000e+00 - val_loss: 0.0182 - val_accuracy: 0.0029\n",
      "Epoch 10/100\n",
      "12/12 [==============================] - 3s 283ms/step - loss: 3.4857e-04 - accuracy: 0.0000e+00 - val_loss: 0.0180 - val_accuracy: 0.0029\n",
      "Epoch 11/100\n",
      "12/12 [==============================] - 3s 276ms/step - loss: 2.9218e-04 - accuracy: 0.0000e+00 - val_loss: 0.0177 - val_accuracy: 0.0029\n",
      "Epoch 12/100\n",
      "12/12 [==============================] - 3s 275ms/step - loss: 2.9039e-04 - accuracy: 0.0000e+00 - val_loss: 0.0167 - val_accuracy: 0.0029\n",
      "Epoch 13/100\n",
      "12/12 [==============================] - 3s 271ms/step - loss: 3.0366e-04 - accuracy: 0.0000e+00 - val_loss: 0.0164 - val_accuracy: 0.0029\n",
      "Epoch 14/100\n",
      "12/12 [==============================] - 3s 277ms/step - loss: 2.3549e-04 - accuracy: 0.0000e+00 - val_loss: 0.0162 - val_accuracy: 0.0029\n",
      "Epoch 15/100\n",
      "12/12 [==============================] - 3s 277ms/step - loss: 2.6605e-04 - accuracy: 0.0000e+00 - val_loss: 0.0153 - val_accuracy: 0.0029\n",
      "Epoch 16/100\n",
      "12/12 [==============================] - 3s 262ms/step - loss: 2.7085e-04 - accuracy: 0.0000e+00 - val_loss: 0.0158 - val_accuracy: 0.0029\n",
      "Epoch 17/100\n",
      "12/12 [==============================] - 3s 262ms/step - loss: 2.2800e-04 - accuracy: 0.0000e+00 - val_loss: 0.0158 - val_accuracy: 0.0029\n",
      "Epoch 18/100\n",
      "12/12 [==============================] - 3s 280ms/step - loss: 2.1606e-04 - accuracy: 0.0000e+00 - val_loss: 0.0150 - val_accuracy: 0.0029\n",
      "Epoch 19/100\n",
      "12/12 [==============================] - 3s 276ms/step - loss: 2.2269e-04 - accuracy: 0.0000e+00 - val_loss: 0.0152 - val_accuracy: 0.0029\n",
      "Epoch 20/100\n",
      "12/12 [==============================] - 3s 277ms/step - loss: 2.1879e-04 - accuracy: 0.0000e+00 - val_loss: 0.0153 - val_accuracy: 0.0029\n",
      "Epoch 21/100\n",
      "12/12 [==============================] - 3s 270ms/step - loss: 2.1414e-04 - accuracy: 0.0000e+00 - val_loss: 0.0180 - val_accuracy: 0.0029\n",
      "Epoch 22/100\n",
      "12/12 [==============================] - 3s 278ms/step - loss: 2.3300e-04 - accuracy: 0.0000e+00 - val_loss: 0.0157 - val_accuracy: 0.0029\n",
      "Epoch 23/100\n",
      "12/12 [==============================] - 3s 280ms/step - loss: 2.4104e-04 - accuracy: 0.0000e+00 - val_loss: 0.0141 - val_accuracy: 0.0029\n",
      "Epoch 24/100\n",
      "12/12 [==============================] - 3s 276ms/step - loss: 2.1071e-04 - accuracy: 0.0000e+00 - val_loss: 0.0148 - val_accuracy: 0.0029\n",
      "Epoch 25/100\n",
      "12/12 [==============================] - 3s 274ms/step - loss: 2.0450e-04 - accuracy: 0.0000e+00 - val_loss: 0.0143 - val_accuracy: 0.0029\n",
      "Epoch 26/100\n",
      "12/12 [==============================] - 3s 284ms/step - loss: 2.0837e-04 - accuracy: 0.0000e+00 - val_loss: 0.0132 - val_accuracy: 0.0029\n",
      "Epoch 27/100\n",
      "12/12 [==============================] - 3s 275ms/step - loss: 2.6432e-04 - accuracy: 0.0000e+00 - val_loss: 0.0146 - val_accuracy: 0.0029\n",
      "Epoch 28/100\n",
      "12/12 [==============================] - 3s 276ms/step - loss: 1.9724e-04 - accuracy: 0.0000e+00 - val_loss: 0.0132 - val_accuracy: 0.0029\n",
      "Epoch 29/100\n",
      "12/12 [==============================] - 3s 288ms/step - loss: 2.0682e-04 - accuracy: 0.0000e+00 - val_loss: 0.0151 - val_accuracy: 0.0029\n",
      "Epoch 30/100\n",
      "12/12 [==============================] - 3s 282ms/step - loss: 2.3286e-04 - accuracy: 0.0000e+00 - val_loss: 0.0136 - val_accuracy: 0.0029\n",
      "Epoch 31/100\n",
      "12/12 [==============================] - 3s 277ms/step - loss: 2.0482e-04 - accuracy: 0.0000e+00 - val_loss: 0.0125 - val_accuracy: 0.0029\n",
      "Epoch 32/100\n",
      "12/12 [==============================] - 3s 257ms/step - loss: 2.1691e-04 - accuracy: 0.0000e+00 - val_loss: 0.0123 - val_accuracy: 0.0029\n",
      "Epoch 33/100\n",
      "12/12 [==============================] - 3s 278ms/step - loss: 2.1441e-04 - accuracy: 0.0000e+00 - val_loss: 0.0141 - val_accuracy: 0.0029\n",
      "Epoch 34/100\n",
      "12/12 [==============================] - 3s 270ms/step - loss: 2.1784e-04 - accuracy: 0.0000e+00 - val_loss: 0.0129 - val_accuracy: 0.0029\n",
      "Epoch 35/100\n",
      "12/12 [==============================] - 3s 265ms/step - loss: 1.6842e-04 - accuracy: 0.0000e+00 - val_loss: 0.0122 - val_accuracy: 0.0029\n",
      "Epoch 36/100\n",
      "12/12 [==============================] - 3s 260ms/step - loss: 1.8162e-04 - accuracy: 0.0000e+00 - val_loss: 0.0135 - val_accuracy: 0.0029\n",
      "Epoch 37/100\n",
      "12/12 [==============================] - 3s 281ms/step - loss: 1.7539e-04 - accuracy: 0.0000e+00 - val_loss: 0.0128 - val_accuracy: 0.0029\n",
      "Epoch 38/100\n",
      "12/12 [==============================] - 3s 278ms/step - loss: 1.7695e-04 - accuracy: 0.0000e+00 - val_loss: 0.0133 - val_accuracy: 0.0029\n",
      "Epoch 39/100\n",
      "12/12 [==============================] - 3s 264ms/step - loss: 1.9390e-04 - accuracy: 0.0000e+00 - val_loss: 0.0127 - val_accuracy: 0.0029\n",
      "Epoch 40/100\n",
      "12/12 [==============================] - 3s 280ms/step - loss: 1.5945e-04 - accuracy: 0.0000e+00 - val_loss: 0.0143 - val_accuracy: 0.0029\n",
      "Epoch 41/100\n",
      "12/12 [==============================] - 3s 274ms/step - loss: 2.3625e-04 - accuracy: 0.0000e+00 - val_loss: 0.0115 - val_accuracy: 0.0029\n",
      "Epoch 42/100\n",
      "12/12 [==============================] - 3s 268ms/step - loss: 1.8376e-04 - accuracy: 0.0000e+00 - val_loss: 0.0113 - val_accuracy: 0.0029\n",
      "Epoch 43/100\n",
      "12/12 [==============================] - 3s 280ms/step - loss: 1.8920e-04 - accuracy: 0.0000e+00 - val_loss: 0.0142 - val_accuracy: 0.0029\n",
      "Epoch 44/100\n",
      "12/12 [==============================] - 3s 261ms/step - loss: 2.2610e-04 - accuracy: 0.0000e+00 - val_loss: 0.0105 - val_accuracy: 0.0029\n",
      "Epoch 45/100\n",
      "12/12 [==============================] - 3s 279ms/step - loss: 2.0956e-04 - accuracy: 0.0000e+00 - val_loss: 0.0125 - val_accuracy: 0.0029\n",
      "Epoch 46/100\n",
      "12/12 [==============================] - 3s 281ms/step - loss: 1.8536e-04 - accuracy: 0.0000e+00 - val_loss: 0.0119 - val_accuracy: 0.0029\n",
      "Epoch 47/100\n",
      "12/12 [==============================] - 3s 282ms/step - loss: 1.6323e-04 - accuracy: 0.0000e+00 - val_loss: 0.0119 - val_accuracy: 0.0029\n",
      "Epoch 48/100\n",
      "12/12 [==============================] - 3s 281ms/step - loss: 1.5385e-04 - accuracy: 0.0000e+00 - val_loss: 0.0119 - val_accuracy: 0.0029\n",
      "Epoch 49/100\n",
      "12/12 [==============================] - 3s 270ms/step - loss: 1.6758e-04 - accuracy: 0.0000e+00 - val_loss: 0.0120 - val_accuracy: 0.0029\n",
      "Epoch 50/100\n",
      "12/12 [==============================] - 3s 274ms/step - loss: 1.9330e-04 - accuracy: 0.0000e+00 - val_loss: 0.0117 - val_accuracy: 0.0029\n",
      "Epoch 51/100\n",
      "12/12 [==============================] - 3s 257ms/step - loss: 1.5950e-04 - accuracy: 0.0000e+00 - val_loss: 0.0120 - val_accuracy: 0.0029\n",
      "Epoch 52/100\n",
      "12/12 [==============================] - 3s 275ms/step - loss: 1.7271e-04 - accuracy: 0.0000e+00 - val_loss: 0.0116 - val_accuracy: 0.0029\n",
      "Epoch 53/100\n",
      "12/12 [==============================] - 3s 274ms/step - loss: 1.5250e-04 - accuracy: 0.0000e+00 - val_loss: 0.0111 - val_accuracy: 0.0029\n",
      "Epoch 54/100\n",
      "12/12 [==============================] - 3s 277ms/step - loss: 1.4967e-04 - accuracy: 0.0000e+00 - val_loss: 0.0118 - val_accuracy: 0.0029\n"
     ]
    },
    {
     "name": "stdout",
     "output_type": "stream",
     "text": [
      "Epoch 55/100\n",
      "12/12 [==============================] - 3s 280ms/step - loss: 1.4223e-04 - accuracy: 0.0000e+00 - val_loss: 0.0110 - val_accuracy: 0.0029\n",
      "Epoch 56/100\n",
      "12/12 [==============================] - 3s 283ms/step - loss: 1.6706e-04 - accuracy: 0.0000e+00 - val_loss: 0.0140 - val_accuracy: 0.0029\n",
      "Epoch 57/100\n",
      "12/12 [==============================] - 3s 283ms/step - loss: 1.5989e-04 - accuracy: 0.0000e+00 - val_loss: 0.0128 - val_accuracy: 0.0029\n",
      "Epoch 58/100\n",
      "12/12 [==============================] - 3s 280ms/step - loss: 1.4430e-04 - accuracy: 0.0000e+00 - val_loss: 0.0114 - val_accuracy: 0.0029\n",
      "Epoch 59/100\n",
      "12/12 [==============================] - 3s 280ms/step - loss: 1.4314e-04 - accuracy: 0.0000e+00 - val_loss: 0.0141 - val_accuracy: 0.0029\n",
      "Epoch 60/100\n",
      "12/12 [==============================] - 3s 283ms/step - loss: 1.6126e-04 - accuracy: 0.0000e+00 - val_loss: 0.0138 - val_accuracy: 0.0029\n",
      "Epoch 61/100\n",
      "12/12 [==============================] - 3s 280ms/step - loss: 1.4578e-04 - accuracy: 0.0000e+00 - val_loss: 0.0126 - val_accuracy: 0.0029\n",
      "Epoch 62/100\n",
      "12/12 [==============================] - 3s 283ms/step - loss: 1.7397e-04 - accuracy: 0.0000e+00 - val_loss: 0.0145 - val_accuracy: 0.0029\n",
      "Epoch 63/100\n",
      "12/12 [==============================] - 3s 282ms/step - loss: 1.3649e-04 - accuracy: 0.0000e+00 - val_loss: 0.0102 - val_accuracy: 0.0029\n",
      "Epoch 64/100\n",
      "12/12 [==============================] - 3s 278ms/step - loss: 2.0212e-04 - accuracy: 0.0000e+00 - val_loss: 0.0192 - val_accuracy: 0.0029\n",
      "Epoch 65/100\n",
      "12/12 [==============================] - 3s 284ms/step - loss: 2.6335e-04 - accuracy: 0.0000e+00 - val_loss: 0.0126 - val_accuracy: 0.0029\n",
      "Epoch 66/100\n",
      "12/12 [==============================] - 3s 285ms/step - loss: 1.4916e-04 - accuracy: 0.0000e+00 - val_loss: 0.0161 - val_accuracy: 0.0029\n",
      "Epoch 67/100\n",
      "12/12 [==============================] - 3s 279ms/step - loss: 1.3889e-04 - accuracy: 0.0000e+00 - val_loss: 0.0167 - val_accuracy: 0.0029\n",
      "Epoch 68/100\n",
      "12/12 [==============================] - 3s 280ms/step - loss: 1.2996e-04 - accuracy: 0.0000e+00 - val_loss: 0.0139 - val_accuracy: 0.0029\n",
      "Epoch 69/100\n",
      "12/12 [==============================] - 3s 288ms/step - loss: 1.3907e-04 - accuracy: 0.0000e+00 - val_loss: 0.0174 - val_accuracy: 0.0029\n",
      "Epoch 70/100\n",
      "12/12 [==============================] - 3s 280ms/step - loss: 1.3135e-04 - accuracy: 0.0000e+00 - val_loss: 0.0161 - val_accuracy: 0.0029\n",
      "Epoch 71/100\n",
      "12/12 [==============================] - 3s 280ms/step - loss: 1.2487e-04 - accuracy: 0.0000e+00 - val_loss: 0.0161 - val_accuracy: 0.0029\n",
      "Epoch 72/100\n",
      "12/12 [==============================] - 3s 290ms/step - loss: 1.1894e-04 - accuracy: 0.0000e+00 - val_loss: 0.0182 - val_accuracy: 0.0029\n",
      "Epoch 73/100\n",
      "12/12 [==============================] - 3s 278ms/step - loss: 1.2458e-04 - accuracy: 0.0000e+00 - val_loss: 0.0162 - val_accuracy: 0.0029\n",
      "Epoch 74/100\n",
      "12/12 [==============================] - 3s 276ms/step - loss: 1.2085e-04 - accuracy: 0.0000e+00 - val_loss: 0.0137 - val_accuracy: 0.0029\n",
      "Epoch 75/100\n",
      "12/12 [==============================] - 3s 275ms/step - loss: 1.2962e-04 - accuracy: 0.0000e+00 - val_loss: 0.0180 - val_accuracy: 0.0029\n",
      "Epoch 76/100\n",
      "12/12 [==============================] - 3s 274ms/step - loss: 1.2356e-04 - accuracy: 0.0000e+00 - val_loss: 0.0145 - val_accuracy: 0.0029\n",
      "Epoch 77/100\n",
      "12/12 [==============================] - 3s 268ms/step - loss: 1.3096e-04 - accuracy: 0.0000e+00 - val_loss: 0.0145 - val_accuracy: 0.0029\n",
      "Epoch 78/100\n",
      "12/12 [==============================] - 3s 280ms/step - loss: 1.3982e-04 - accuracy: 0.0000e+00 - val_loss: 0.0174 - val_accuracy: 0.0029\n",
      "Epoch 79/100\n",
      "12/12 [==============================] - 3s 275ms/step - loss: 1.5672e-04 - accuracy: 0.0000e+00 - val_loss: 0.0154 - val_accuracy: 0.0029\n",
      "Epoch 80/100\n",
      "12/12 [==============================] - 3s 278ms/step - loss: 1.5865e-04 - accuracy: 0.0000e+00 - val_loss: 0.0147 - val_accuracy: 0.0029\n",
      "Epoch 81/100\n",
      "12/12 [==============================] - 3s 276ms/step - loss: 1.3366e-04 - accuracy: 0.0000e+00 - val_loss: 0.0070 - val_accuracy: 0.0029\n",
      "Epoch 82/100\n",
      "12/12 [==============================] - 3s 280ms/step - loss: 1.5106e-04 - accuracy: 0.0000e+00 - val_loss: 0.0071 - val_accuracy: 0.0029\n",
      "Epoch 83/100\n",
      "12/12 [==============================] - 3s 275ms/step - loss: 1.2704e-04 - accuracy: 0.0000e+00 - val_loss: 0.0070 - val_accuracy: 0.0029\n",
      "Epoch 84/100\n",
      "12/12 [==============================] - 3s 280ms/step - loss: 1.2830e-04 - accuracy: 0.0000e+00 - val_loss: 0.0074 - val_accuracy: 0.0029\n",
      "Epoch 85/100\n",
      "12/12 [==============================] - 3s 277ms/step - loss: 1.1941e-04 - accuracy: 0.0000e+00 - val_loss: 0.0080 - val_accuracy: 0.0029\n",
      "Epoch 86/100\n",
      "12/12 [==============================] - 3s 275ms/step - loss: 1.2741e-04 - accuracy: 0.0000e+00 - val_loss: 0.0096 - val_accuracy: 0.0029\n",
      "Epoch 87/100\n",
      "12/12 [==============================] - 4s 296ms/step - loss: 1.2606e-04 - accuracy: 0.0000e+00 - val_loss: 0.0100 - val_accuracy: 0.0029\n",
      "Epoch 88/100\n",
      "12/12 [==============================] - 3s 275ms/step - loss: 1.3469e-04 - accuracy: 0.0000e+00 - val_loss: 0.0107 - val_accuracy: 0.0029\n",
      "Epoch 89/100\n",
      "12/12 [==============================] - 3s 278ms/step - loss: 1.1769e-04 - accuracy: 0.0000e+00 - val_loss: 0.0108 - val_accuracy: 0.0029\n",
      "Epoch 90/100\n",
      "12/12 [==============================] - 3s 276ms/step - loss: 1.0899e-04 - accuracy: 0.0000e+00 - val_loss: 0.0103 - val_accuracy: 0.0029\n",
      "Epoch 91/100\n",
      "12/12 [==============================] - 3s 274ms/step - loss: 1.2133e-04 - accuracy: 0.0000e+00 - val_loss: 0.0123 - val_accuracy: 0.0029\n",
      "Epoch 92/100\n",
      "12/12 [==============================] - 3s 276ms/step - loss: 1.1381e-04 - accuracy: 0.0000e+00 - val_loss: 0.0112 - val_accuracy: 0.0029\n",
      "Epoch 93/100\n",
      "12/12 [==============================] - 3s 281ms/step - loss: 1.2219e-04 - accuracy: 0.0000e+00 - val_loss: 0.0104 - val_accuracy: 0.0029\n",
      "Epoch 94/100\n",
      "12/12 [==============================] - 3s 275ms/step - loss: 1.0444e-04 - accuracy: 0.0000e+00 - val_loss: 0.0101 - val_accuracy: 0.0029\n",
      "Epoch 95/100\n",
      "12/12 [==============================] - 3s 278ms/step - loss: 1.1336e-04 - accuracy: 0.0000e+00 - val_loss: 0.0122 - val_accuracy: 0.0029\n",
      "Epoch 96/100\n",
      "12/12 [==============================] - 3s 276ms/step - loss: 1.1148e-04 - accuracy: 0.0000e+00 - val_loss: 0.0082 - val_accuracy: 0.0029\n",
      "Epoch 97/100\n",
      "12/12 [==============================] - 3s 277ms/step - loss: 1.4566e-04 - accuracy: 0.0000e+00 - val_loss: 0.0088 - val_accuracy: 0.0029\n",
      "Epoch 98/100\n",
      "12/12 [==============================] - 3s 276ms/step - loss: 1.1860e-04 - accuracy: 0.0000e+00 - val_loss: 0.0098 - val_accuracy: 0.0029\n",
      "Epoch 99/100\n",
      "12/12 [==============================] - 3s 276ms/step - loss: 9.5018e-05 - accuracy: 0.0000e+00 - val_loss: 0.0093 - val_accuracy: 0.0029\n",
      "Epoch 100/100\n",
      "12/12 [==============================] - 3s 294ms/step - loss: 1.2803e-04 - accuracy: 0.0000e+00 - val_loss: 0.0093 - val_accuracy: 0.0029\n"
     ]
    },
    {
     "data": {
      "text/plain": [
       "<tensorflow.python.keras.callbacks.History at 0x229b17990f0>"
      ]
     },
     "execution_count": 256,
     "metadata": {},
     "output_type": "execute_result"
    }
   ],
   "source": [
    "model.fit(XT,YT,validation_data=(Xt,Yt),verbose=1,epochs=100,batch_size=64)"
   ]
  },
  {
   "cell_type": "code",
   "execution_count": 257,
   "id": "chubby-knitting",
   "metadata": {},
   "outputs": [
    {
     "name": "stdout",
     "output_type": "stream",
     "text": [
      "MSE for train_data 159.28903665155337\n",
      "MSE for test data 253.14939991781623\n"
     ]
    }
   ],
   "source": [
    "train_predict=model.predict(XT)\n",
    "test_predict=model.predict(Xt)\n",
    "\n",
    "train_predict=scaler.inverse_transform(train_predict)\n",
    "test_predict=scaler.inverse_transform(test_predict)\n",
    "\n",
    "import math\n",
    "from sklearn.metrics import mean_squared_error\n",
    "print(\"MSE for train_data\",math.sqrt(mean_squared_error(YT,train_predict)))\n",
    "\n",
    "print(\"MSE for test data\",math.sqrt(mean_squared_error(Yt,test_predict)))\n"
   ]
  },
  {
   "cell_type": "code",
   "execution_count": 258,
   "id": "refined-drove",
   "metadata": {},
   "outputs": [
    {
     "data": {
      "image/png": "[encoded data removed]",
      "text/plain": [
       "<Figure size 432x288 with 1 Axes>"
      ]
     },
     "metadata": {
      "needs_background": "light"
     },
     "output_type": "display_data"
    }
   ],
   "source": [
    "plt.plot(np.concatenate((train_predict,test_predict),axis=0),c='r')  ###Plot from the predicted value \n",
    "plt.plot(np.concatenate((scaler.inverse_transform(YT.reshape(-1,1)),scaler.inverse_transform(Yt.reshape(-1,1))),axis=0),c='b')  ###Plot from the given input\n",
    "plt.show()"
   ]
  },
  {
   "cell_type": "code",
   "execution_count": 304,
   "id": "patent-physics",
   "metadata": {},
   "outputs": [
    {
     "name": "stdout",
     "output_type": "stream",
     "text": [
      "0.09051274508237839\n",
      "0.08997785300016403\n",
      "0.0893821269273758\n",
      "0.08877846598625183\n",
      "0.08819218724966049\n",
      "0.08763015270233154\n",
      "0.08708999305963516\n",
      "0.08656556159257889\n",
      "0.0860503613948822\n",
      "0.08553904294967651\n",
      "0.08502768725156784\n",
      "0.08451366424560547\n",
      "0.08399542421102524\n",
      "0.08347215503454208\n",
      "0.0829436257481575\n",
      "0.08241001516580582\n",
      "0.08187175542116165\n",
      "0.08132945746183395\n",
      "0.08078388124704361\n",
      "0.08023582398891449\n",
      "0.07968610525131226\n",
      "0.0791354849934578\n",
      "0.07858467847108841\n",
      "0.07803435623645782\n",
      "0.07748503983020782\n",
      "0.07693719863891602\n",
      "0.07639118283987045\n",
      "0.07584728300571442\n",
      "0.07530567795038223\n",
      "0.07476650923490524\n"
     ]
    }
   ],
   "source": [
    "#### Predicting the next 30 days forecast\n",
    "for i in range(30):\n",
    "    x_ = Yt[Yt.shape[0]-100:Yt.shape[0]].reshape((1,100,1))\n",
    "    y_ = model.predict(x_).reshape(-1,)\n",
    "    Yt = np.concatenate((Yt,y_))\n",
    "    print(Yt[-1])\n",
    "    "
   ]
  },
  {
   "cell_type": "code",
   "execution_count": 307,
   "id": "together-venezuela",
   "metadata": {
    "scrolled": true
   },
   "outputs": [],
   "source": [
    "Yt=scaler.inverse_transform(Yt.reshape(-1,1))"
   ]
  },
  {
   "cell_type": "code",
   "execution_count": 308,
   "id": "cleared-mobility",
   "metadata": {},
   "outputs": [
    {
     "data": {
      "text/plain": [
       "[<matplotlib.lines.Line2D at 0x229b731aef0>]"
      ]
     },
     "execution_count": 308,
     "metadata": {},
     "output_type": "execute_result"
    },
    {
     "data": {
      "image/png": "[encoded data removed]",
      "text/plain": [
       "<Figure size 432x288 with 1 Axes>"
      ]
     },
     "metadata": {
      "needs_background": "light"
     },
     "output_type": "display_data"
    }
   ],
   "source": [
    "plt.plot(Yt)"
   ]
  },
  {
   "cell_type": "code",
   "execution_count": null,
   "id": "amateur-metro",
   "metadata": {},
   "outputs": [],
   "source": []
  },
  {
   "cell_type": "code",
   "execution_count": null,
   "id": "rural-divide",
   "metadata": {},
   "outputs": [],
   "source": []
  },
  {
   "cell_type": "code",
   "execution_count": null,
   "id": "devoted-heart",
   "metadata": {},
   "outputs": [],
   "source": []
  },
  {
   "cell_type": "code",
   "execution_count": null,
   "id": "editorial-rwanda",
   "metadata": {},
   "outputs": [],
   "source": []
  },
  {
   "cell_type": "code",
   "execution_count": null,
   "id": "fleet-radio",
   "metadata": {},
   "outputs": [],
   "source": []
  },
  {
   "cell_type": "code",
   "execution_count": null,
   "id": "assured-stocks",
   "metadata": {},
   "outputs": [],
   "source": []
  }
 ],
 "metadata": {
  "kernelspec": {
   "display_name": "Python 3",
   "language": "python",
   "name": "python3"
  },
  "language_info": {
   "codemirror_mode": {
    "name": "ipython",
    "version": 3
   },
   "file_extension": ".py",
   "mimetype": "text/x-python",
   "name": "python",
   "nbconvert_exporter": "python",
   "pygments_lexer": "ipython3",
   "version": "3.6.5"
  }
 },
 "nbformat": 4,
 "nbformat_minor": 5
}
